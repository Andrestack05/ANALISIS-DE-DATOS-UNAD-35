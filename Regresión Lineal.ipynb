{
 "cells": [
  {
   "cell_type": "code",
   "execution_count": 1,
   "id": "67d7b39e-5293-424c-bdcc-01db158b7a92",
   "metadata": {},
   "outputs": [
    {
     "name": "stdout",
     "output_type": "stream",
     "text": [
      "Requirement already satisfied: numpy in c:\\users\\andres_s\\anaconda3\\lib\\site-packages (1.26.4)Note: you may need to restart the kernel to use updated packages.\n",
      "\n",
      "Requirement already satisfied: pandas in c:\\users\\andres_s\\anaconda3\\lib\\site-packages (2.2.2)\n",
      "Requirement already satisfied: scikit-learn in c:\\users\\andres_s\\anaconda3\\lib\\site-packages (1.5.1)\n",
      "Requirement already satisfied: matplotlib in c:\\users\\andres_s\\anaconda3\\lib\\site-packages (3.9.2)\n",
      "Requirement already satisfied: python-dateutil>=2.8.2 in c:\\users\\andres_s\\anaconda3\\lib\\site-packages (from pandas) (2.9.0.post0)\n",
      "Requirement already satisfied: pytz>=2020.1 in c:\\users\\andres_s\\anaconda3\\lib\\site-packages (from pandas) (2024.1)\n",
      "Requirement already satisfied: tzdata>=2022.7 in c:\\users\\andres_s\\anaconda3\\lib\\site-packages (from pandas) (2023.3)\n",
      "Requirement already satisfied: scipy>=1.6.0 in c:\\users\\andres_s\\anaconda3\\lib\\site-packages (from scikit-learn) (1.13.1)\n",
      "Requirement already satisfied: joblib>=1.2.0 in c:\\users\\andres_s\\anaconda3\\lib\\site-packages (from scikit-learn) (1.4.2)\n",
      "Requirement already satisfied: threadpoolctl>=3.1.0 in c:\\users\\andres_s\\anaconda3\\lib\\site-packages (from scikit-learn) (3.5.0)\n",
      "Requirement already satisfied: contourpy>=1.0.1 in c:\\users\\andres_s\\anaconda3\\lib\\site-packages (from matplotlib) (1.2.0)\n",
      "Requirement already satisfied: cycler>=0.10 in c:\\users\\andres_s\\anaconda3\\lib\\site-packages (from matplotlib) (0.11.0)\n",
      "Requirement already satisfied: fonttools>=4.22.0 in c:\\users\\andres_s\\anaconda3\\lib\\site-packages (from matplotlib) (4.51.0)\n",
      "Requirement already satisfied: kiwisolver>=1.3.1 in c:\\users\\andres_s\\anaconda3\\lib\\site-packages (from matplotlib) (1.4.4)\n",
      "Requirement already satisfied: packaging>=20.0 in c:\\users\\andres_s\\anaconda3\\lib\\site-packages (from matplotlib) (24.1)\n",
      "Requirement already satisfied: pillow>=8 in c:\\users\\andres_s\\anaconda3\\lib\\site-packages (from matplotlib) (10.4.0)\n",
      "Requirement already satisfied: pyparsing>=2.3.1 in c:\\users\\andres_s\\anaconda3\\lib\\site-packages (from matplotlib) (3.1.2)\n",
      "Requirement already satisfied: six>=1.5 in c:\\users\\andres_s\\anaconda3\\lib\\site-packages (from python-dateutil>=2.8.2->pandas) (1.16.0)\n"
     ]
    }
   ],
   "source": [
    "pip install numpy pandas scikit-learn  matplotlib"
   ]
  },
  {
   "cell_type": "markdown",
   "id": "496bb10d-0c21-4719-a9ba-3220ea1023da",
   "metadata": {},
   "source": [
    "# REGRESIÓN LINEAL \n",
    "- Estudiante: Pablo Andrés Suarez Rocha\n",
    "- Grupo: 35"
   ]
  },
  {
   "cell_type": "code",
   "execution_count": 4,
   "id": "9c66f5f4-0dfb-42a0-93b4-bec3e9303551",
   "metadata": {
    "scrolled": true
   },
   "outputs": [],
   "source": [
    "# Importar las librerías necesarias\n",
    "import pandas as pd\n",
    "import matplotlib.pyplot as plt\n",
    "import seaborn as sns\n",
    "from sklearn.model_selection import train_test_split\n",
    "from sklearn.linear_model import LinearRegression\n",
    "from sklearn.metrics import mean_squared_error\n",
    "import numpy as np\n",
    "import pandas as pd\n",
    "from sklearn.linear_model import LinearRegression\n",
    "import matplotlib.pyplot as plt"
   ]
  },
  {
   "cell_type": "markdown",
   "id": "edbd61ab-2ce7-46e4-9aff-3f43b50dfe18",
   "metadata": {},
   "source": [
    "## Cargamos el dataset y realizamos exploración de datos."
   ]
  },
  {
   "cell_type": "code",
   "execution_count": 9,
   "id": "1e9c5b6a-b5a8-4919-bc6f-55f5f3d4433a",
   "metadata": {},
   "outputs": [
    {
     "data": {
      "text/html": [
       "<div>\n",
       "<style scoped>\n",
       "    .dataframe tbody tr th:only-of-type {\n",
       "        vertical-align: middle;\n",
       "    }\n",
       "\n",
       "    .dataframe tbody tr th {\n",
       "        vertical-align: top;\n",
       "    }\n",
       "\n",
       "    .dataframe thead th {\n",
       "        text-align: right;\n",
       "    }\n",
       "</style>\n",
       "<table border=\"1\" class=\"dataframe\">\n",
       "  <thead>\n",
       "    <tr style=\"text-align: right;\">\n",
       "      <th></th>\n",
       "      <th>name</th>\n",
       "      <th>year</th>\n",
       "      <th>selling_price</th>\n",
       "      <th>km_driven</th>\n",
       "      <th>fuel</th>\n",
       "      <th>seller_type</th>\n",
       "      <th>transmission</th>\n",
       "      <th>owner</th>\n",
       "    </tr>\n",
       "  </thead>\n",
       "  <tbody>\n",
       "    <tr>\n",
       "      <th>0</th>\n",
       "      <td>Maruti 800 AC</td>\n",
       "      <td>2007</td>\n",
       "      <td>60000</td>\n",
       "      <td>70000</td>\n",
       "      <td>Petrol</td>\n",
       "      <td>Individual</td>\n",
       "      <td>Manual</td>\n",
       "      <td>First Owner</td>\n",
       "    </tr>\n",
       "    <tr>\n",
       "      <th>1</th>\n",
       "      <td>Maruti Wagon R LXI Minor</td>\n",
       "      <td>2007</td>\n",
       "      <td>135000</td>\n",
       "      <td>50000</td>\n",
       "      <td>Petrol</td>\n",
       "      <td>Individual</td>\n",
       "      <td>Manual</td>\n",
       "      <td>First Owner</td>\n",
       "    </tr>\n",
       "    <tr>\n",
       "      <th>2</th>\n",
       "      <td>Hyundai Verna 1.6 SX</td>\n",
       "      <td>2012</td>\n",
       "      <td>600000</td>\n",
       "      <td>100000</td>\n",
       "      <td>Diesel</td>\n",
       "      <td>Individual</td>\n",
       "      <td>Manual</td>\n",
       "      <td>First Owner</td>\n",
       "    </tr>\n",
       "    <tr>\n",
       "      <th>3</th>\n",
       "      <td>Datsun RediGO T Option</td>\n",
       "      <td>2017</td>\n",
       "      <td>250000</td>\n",
       "      <td>46000</td>\n",
       "      <td>Petrol</td>\n",
       "      <td>Individual</td>\n",
       "      <td>Manual</td>\n",
       "      <td>First Owner</td>\n",
       "    </tr>\n",
       "    <tr>\n",
       "      <th>4</th>\n",
       "      <td>Honda Amaze VX i-DTEC</td>\n",
       "      <td>2014</td>\n",
       "      <td>450000</td>\n",
       "      <td>141000</td>\n",
       "      <td>Diesel</td>\n",
       "      <td>Individual</td>\n",
       "      <td>Manual</td>\n",
       "      <td>Second Owner</td>\n",
       "    </tr>\n",
       "    <tr>\n",
       "      <th>5</th>\n",
       "      <td>Maruti Alto LX BSIII</td>\n",
       "      <td>2007</td>\n",
       "      <td>140000</td>\n",
       "      <td>125000</td>\n",
       "      <td>Petrol</td>\n",
       "      <td>Individual</td>\n",
       "      <td>Manual</td>\n",
       "      <td>First Owner</td>\n",
       "    </tr>\n",
       "    <tr>\n",
       "      <th>6</th>\n",
       "      <td>Hyundai Xcent 1.2 Kappa S</td>\n",
       "      <td>2016</td>\n",
       "      <td>550000</td>\n",
       "      <td>25000</td>\n",
       "      <td>Petrol</td>\n",
       "      <td>Individual</td>\n",
       "      <td>Manual</td>\n",
       "      <td>First Owner</td>\n",
       "    </tr>\n",
       "    <tr>\n",
       "      <th>7</th>\n",
       "      <td>Tata Indigo Grand Petrol</td>\n",
       "      <td>2014</td>\n",
       "      <td>240000</td>\n",
       "      <td>60000</td>\n",
       "      <td>Petrol</td>\n",
       "      <td>Individual</td>\n",
       "      <td>Manual</td>\n",
       "      <td>Second Owner</td>\n",
       "    </tr>\n",
       "    <tr>\n",
       "      <th>8</th>\n",
       "      <td>Hyundai Creta 1.6 VTVT S</td>\n",
       "      <td>2015</td>\n",
       "      <td>850000</td>\n",
       "      <td>25000</td>\n",
       "      <td>Petrol</td>\n",
       "      <td>Individual</td>\n",
       "      <td>Manual</td>\n",
       "      <td>First Owner</td>\n",
       "    </tr>\n",
       "    <tr>\n",
       "      <th>9</th>\n",
       "      <td>Maruti Celerio Green VXI</td>\n",
       "      <td>2017</td>\n",
       "      <td>365000</td>\n",
       "      <td>78000</td>\n",
       "      <td>CNG</td>\n",
       "      <td>Individual</td>\n",
       "      <td>Manual</td>\n",
       "      <td>First Owner</td>\n",
       "    </tr>\n",
       "  </tbody>\n",
       "</table>\n",
       "</div>"
      ],
      "text/plain": [
       "                        name  year  selling_price  km_driven    fuel  \\\n",
       "0              Maruti 800 AC  2007          60000      70000  Petrol   \n",
       "1   Maruti Wagon R LXI Minor  2007         135000      50000  Petrol   \n",
       "2       Hyundai Verna 1.6 SX  2012         600000     100000  Diesel   \n",
       "3     Datsun RediGO T Option  2017         250000      46000  Petrol   \n",
       "4      Honda Amaze VX i-DTEC  2014         450000     141000  Diesel   \n",
       "5       Maruti Alto LX BSIII  2007         140000     125000  Petrol   \n",
       "6  Hyundai Xcent 1.2 Kappa S  2016         550000      25000  Petrol   \n",
       "7   Tata Indigo Grand Petrol  2014         240000      60000  Petrol   \n",
       "8   Hyundai Creta 1.6 VTVT S  2015         850000      25000  Petrol   \n",
       "9   Maruti Celerio Green VXI  2017         365000      78000     CNG   \n",
       "\n",
       "  seller_type transmission         owner  \n",
       "0  Individual       Manual   First Owner  \n",
       "1  Individual       Manual   First Owner  \n",
       "2  Individual       Manual   First Owner  \n",
       "3  Individual       Manual   First Owner  \n",
       "4  Individual       Manual  Second Owner  \n",
       "5  Individual       Manual   First Owner  \n",
       "6  Individual       Manual   First Owner  \n",
       "7  Individual       Manual  Second Owner  \n",
       "8  Individual       Manual   First Owner  \n",
       "9  Individual       Manual   First Owner  "
      ]
     },
     "execution_count": 9,
     "metadata": {},
     "output_type": "execute_result"
    }
   ],
   "source": [
    "#Cargamos el documento csv\n",
    "info = pd.read_csv('C:/Users/ANDRES_S/Desktop/Andrés/Octavo semestre UNAD/ANALISIS  DE DATOS/Tarea 3/CARS.csv')\n",
    "\n",
    "# Ver las primeras filas del dataset\n",
    "info.head(10)"
   ]
  },
  {
   "cell_type": "code",
   "execution_count": 11,
   "id": "ee6377ba-1e34-41c3-a500-adc3425f2c00",
   "metadata": {},
   "outputs": [
    {
     "data": {
      "text/html": [
       "<div>\n",
       "<style scoped>\n",
       "    .dataframe tbody tr th:only-of-type {\n",
       "        vertical-align: middle;\n",
       "    }\n",
       "\n",
       "    .dataframe tbody tr th {\n",
       "        vertical-align: top;\n",
       "    }\n",
       "\n",
       "    .dataframe thead th {\n",
       "        text-align: right;\n",
       "    }\n",
       "</style>\n",
       "<table border=\"1\" class=\"dataframe\">\n",
       "  <thead>\n",
       "    <tr style=\"text-align: right;\">\n",
       "      <th></th>\n",
       "      <th>year</th>\n",
       "      <th>selling_price</th>\n",
       "      <th>km_driven</th>\n",
       "    </tr>\n",
       "  </thead>\n",
       "  <tbody>\n",
       "    <tr>\n",
       "      <th>count</th>\n",
       "      <td>4340.000000</td>\n",
       "      <td>4.340000e+03</td>\n",
       "      <td>4340.000000</td>\n",
       "    </tr>\n",
       "    <tr>\n",
       "      <th>mean</th>\n",
       "      <td>2013.090783</td>\n",
       "      <td>5.041273e+05</td>\n",
       "      <td>66215.777419</td>\n",
       "    </tr>\n",
       "    <tr>\n",
       "      <th>std</th>\n",
       "      <td>4.215344</td>\n",
       "      <td>5.785487e+05</td>\n",
       "      <td>46644.102194</td>\n",
       "    </tr>\n",
       "    <tr>\n",
       "      <th>min</th>\n",
       "      <td>1992.000000</td>\n",
       "      <td>2.000000e+04</td>\n",
       "      <td>1.000000</td>\n",
       "    </tr>\n",
       "    <tr>\n",
       "      <th>25%</th>\n",
       "      <td>2011.000000</td>\n",
       "      <td>2.087498e+05</td>\n",
       "      <td>35000.000000</td>\n",
       "    </tr>\n",
       "    <tr>\n",
       "      <th>50%</th>\n",
       "      <td>2014.000000</td>\n",
       "      <td>3.500000e+05</td>\n",
       "      <td>60000.000000</td>\n",
       "    </tr>\n",
       "    <tr>\n",
       "      <th>75%</th>\n",
       "      <td>2016.000000</td>\n",
       "      <td>6.000000e+05</td>\n",
       "      <td>90000.000000</td>\n",
       "    </tr>\n",
       "    <tr>\n",
       "      <th>max</th>\n",
       "      <td>2020.000000</td>\n",
       "      <td>8.900000e+06</td>\n",
       "      <td>806599.000000</td>\n",
       "    </tr>\n",
       "  </tbody>\n",
       "</table>\n",
       "</div>"
      ],
      "text/plain": [
       "              year  selling_price      km_driven\n",
       "count  4340.000000   4.340000e+03    4340.000000\n",
       "mean   2013.090783   5.041273e+05   66215.777419\n",
       "std       4.215344   5.785487e+05   46644.102194\n",
       "min    1992.000000   2.000000e+04       1.000000\n",
       "25%    2011.000000   2.087498e+05   35000.000000\n",
       "50%    2014.000000   3.500000e+05   60000.000000\n",
       "75%    2016.000000   6.000000e+05   90000.000000\n",
       "max    2020.000000   8.900000e+06  806599.000000"
      ]
     },
     "execution_count": 11,
     "metadata": {},
     "output_type": "execute_result"
    }
   ],
   "source": [
    "info.describe()"
   ]
  },
  {
   "cell_type": "code",
   "execution_count": 13,
   "id": "a85bafd4-66f1-4aaa-b3b6-55c330917265",
   "metadata": {},
   "outputs": [],
   "source": [
    "# Convertir los datos en un DataFrame\n",
    "df = pd.DataFrame(info)"
   ]
  },
  {
   "cell_type": "markdown",
   "id": "35cc254a-46da-47c0-82f9-2c7866c0cb78",
   "metadata": {},
   "source": [
    "## Definimos las variables con las que vamos a trabajar y creamos el modelo de regresión lineal."
   ]
  },
  {
   "cell_type": "code",
   "execution_count": 16,
   "id": "c9877ed3-28f6-4c19-88a6-ca84be23ac79",
   "metadata": {},
   "outputs": [
    {
     "name": "stdout",
     "output_type": "stream",
     "text": [
      "Intercepto (β0): -111227352.76280843\n",
      "Coeficiente (year, β1): 55511.65102899528\n",
      "Coeficiente (km_driven, β2): -0.2795856895779668\n"
     ]
    }
   ],
   "source": [
    "# Variables independientes (year y km_driven) y dependiente (selling_price)\n",
    "\n",
    "X = df[['year', 'km_driven']]\n",
    "y = df['selling_price']\n",
    "\n",
    "# Crear un modelo de regresión lineal\n",
    "modelo = LinearRegression()\n",
    "# Ajustar el modelo a los datos\n",
    "modelo.fit(X, y)\n",
    "# Coeficientes de la regresión\n",
    "beta_0 = modelo.intercept_  # Intercepto\n",
    "beta_1, beta_2 = modelo.coef_  # Pendientes (year y km_driven)\n",
    "\n",
    "# Mostrar los coeficientes\n",
    "\n",
    "print(f\"Intercepto (β0): {beta_0}\")\n",
    "print(f\"Coeficiente (year, β1): {beta_1}\")\n",
    "print(f\"Coeficiente (km_driven, β2): {beta_2}\")"
   ]
  },
  {
   "cell_type": "code",
   "execution_count": 18,
   "id": "0bce0b8d-74c2-4af5-b6d6-88ef3a9a8653",
   "metadata": {},
   "outputs": [
    {
     "name": "stderr",
     "output_type": "stream",
     "text": [
      "C:\\Users\\ANDRES_S\\anaconda3\\Lib\\site-packages\\sklearn\\base.py:493: UserWarning: X does not have valid feature names, but LinearRegression was fitted with feature names\n",
      "  warnings.warn(\n"
     ]
    }
   ],
   "source": [
    "# Visualización de la regresión (manteniendo constante el número de habitaciones)\n",
    "km_driven = 60000  # Fijar el número de habitaciones en 2 para el gráfico\n",
    "year_range = np.linspace(df['year'].min(), df['year'].max(), 2016)\n",
    "\n",
    "# Predecir manteniendo las habitaciones constantes\n",
    "predicciones_fijas = modelo.predict(np.column_stack((year_range, np.full_like(year_range, km_driven))))"
   ]
  },
  {
   "cell_type": "markdown",
   "id": "95fe98e1-f0a5-416f-889d-4db4b40a72ca",
   "metadata": {},
   "source": [
    "## Realizamos gráficas."
   ]
  },
  {
   "cell_type": "code",
   "execution_count": 26,
   "id": "6b72a86e-9d5e-4272-b192-e39de0506b7b",
   "metadata": {},
   "outputs": [
    {
     "data": {
      "image/png": "[encoded data removed]",
      "text/plain": [
       "<Figure size 640x480 with 1 Axes>"
      ]
     },
     "metadata": {},
     "output_type": "display_data"
    }
   ],
   "source": [
    "# Graficar los datos reales y la línea de regresión\n",
    "plt.scatter(df['year'], y, color='blue', label='Datos Reales')\n",
    "plt.plot(year_range, predicciones_fijas, color='red', label=f'Línea de Regresión (km_driven = {km_driven})')\n",
    "plt.title('Regresión Lineal: selling_price vs year (Km_driven)')\n",
    "plt.xlabel('Year')\n",
    "plt.ylabel('Selling_price (USD)')\n",
    "plt.legend()\n",
    "plt.show()"
   ]
  },
  {
   "cell_type": "markdown",
   "id": "4a1647fd-1d64-47f6-a77f-18fc6ddd5fd3",
   "metadata": {},
   "source": [
    "## Realizamos predicciones para probar el modelo"
   ]
  },
  {
   "cell_type": "code",
   "execution_count": 28,
   "id": "6601ad7e-23c4-48c4-a9e5-7f6503010c2f",
   "metadata": {},
   "outputs": [
    {
     "name": "stdout",
     "output_type": "stream",
     "text": [
      "\n",
      "Predicciones:\n",
      "Predicción 1 para (Año: 2010 , Kilometraje: 80000  KM): 328698.95 USD\n",
      "Predicción 2 para (Año: 2018 , Kilometraje: 120000  KM): 761608.73 USD\n"
     ]
    },
    {
     "name": "stderr",
     "output_type": "stream",
     "text": [
      "C:\\Users\\ANDRES_S\\anaconda3\\Lib\\site-packages\\sklearn\\base.py:493: UserWarning: X does not have valid feature names, but LinearRegression was fitted with feature names\n",
      "  warnings.warn(\n"
     ]
    }
   ],
   "source": [
    "# Predecir precios para dos nuevos valores\n",
    "nuevo_X = np.array([[2010, 80000], [2018, 120000]])  # Nuevos valores (year, kilometraje)\n",
    "predicciones = modelo.predict(nuevo_X)\n",
    "\n",
    "# Mostrar las predicciones\n",
    "print(\"\\nPredicciones:\")\n",
    "for i, pred in enumerate(predicciones):\n",
    "    print(f\"Predicción {i+1} para (Año: {nuevo_X[i][0]} , Kilometraje: {nuevo_X[i][1]}  KM): {pred:.2f} USD\")"
   ]
  },
  {
   "cell_type": "code",
   "execution_count": 22,
   "id": "d4da9a85-17d9-44c1-af26-7f63e1fa6f6b",
   "metadata": {},
   "outputs": [
    {
     "name": "stdout",
     "output_type": "stream",
     "text": [
      "R² (Coeficiente de determinación): 0.17174975569610318\n",
      "Error Absoluto Medio (MAE): 268969.20372486714\n"
     ]
    }
   ],
   "source": [
    "# Importar librerías necesarias\n",
    "from sklearn.metrics import mean_absolute_error, mean_squared_error, r2_score\n",
    "\n",
    "# Datos (suponiendo que tienes el dataset con 30 ejemplos de tamaño)\n",
    "# Por ejemplo, los datos se pueden construir como arrays o un DataFrame\n",
    "\n",
    "X = df[['year', 'km_driven']]\n",
    "y = df['selling_price']\n",
    "\n",
    "# Definir el modelo de regresión lineal\n",
    "model = LinearRegression()\n",
    "\n",
    "# Entrenar el modelo con los datos\n",
    "model.fit(X, y)\n",
    "\n",
    "# Realizar predicciones en los datos de entrenamiento\n",
    "predicciones = model.predict(X)\n",
    "\n",
    "# Calcular las métricas de evaluación\n",
    "r2 = r2_score(y, predicciones)  # Coeficiente de determinación R²\n",
    "mae = mean_absolute_error(y, predicciones)  # Error Absoluto Medio\n",
    "mse = mean_squared_error(y, predicciones)   # Error Cuadrático Medio\n",
    "rmse = np.sqrt(mse)                         # Raíz del Error Cuadrático Medio\n",
    "\n",
    "# Imprimir las métricas\n",
    "print(f'R² (Coeficiente de determinación): {r2}')\n",
    "print(f'Error Absoluto Medio (MAE): {mae}')"
   ]
  },
  {
   "cell_type": "markdown",
   "id": "53981af5-b137-4ec4-9533-2bfc5edb9617",
   "metadata": {},
   "source": [
    "## Conclusiones\n",
    "- El valor del coeficiente de determinación es de 0.17 o sea del 17% por lo que el modelo para determinar el precio del automovil siguiendo las variables de Kilometraje y Año del modelo no es confiable.\n",
    "- Tiene un error absoluto medio de 268969 (USD), lo que no da confiabilidad a la hora de medir el valor de venta de un automovil.\n",
    "## Sugerencias\n",
    "- Probar utilizando nuevas variables con las que se pueda trabajar.\n",
    "- Realizar una limpieza de datos más  grande para tratar de hallar un mejor porcentaje en el coeficiente de determinación.\n",
    "- Agregar otros atributos al dataset para un mejor análisis."
   ]
  },
  {
   "cell_type": "code",
   "execution_count": null,
   "id": "a884e0a2-4217-49cb-9fca-0a380deb4d04",
   "metadata": {},
   "outputs": [],
   "source": []
  }
 ],
 "metadata": {
  "kernelspec": {
   "display_name": "Python 3 (ipykernel)",
   "language": "python",
   "name": "python3"
  },
  "language_info": {
   "codemirror_mode": {
    "name": "ipython",
    "version": 3
   },
   "file_extension": ".py",
   "mimetype": "text/x-python",
   "name": "python",
   "nbconvert_exporter": "python",
   "pygments_lexer": "ipython3",
   "version": "3.12.7"
  }
 },
 "nbformat": 4,
 "nbformat_minor": 5
}
